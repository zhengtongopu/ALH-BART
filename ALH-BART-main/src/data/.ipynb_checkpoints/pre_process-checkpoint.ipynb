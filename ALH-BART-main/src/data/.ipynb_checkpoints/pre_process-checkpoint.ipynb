{
 "cells": [
  {
   "cell_type": "code",
   "execution_count": 107,
   "metadata": {},
   "outputs": [],
   "source": [
    "import json"
   ]
  },
  {
   "cell_type": "code",
   "execution_count": 88,
   "metadata": {},
   "outputs": [],
   "source": [
    "import pickle\n",
    "import json\n",
    "\n",
    "import re\n",
    "def concat_conversation(data, labels, sep = ' <s> '):\n",
    "    conversations = []\n",
    "    summaries = []\n",
    "    for i in range(0, len(data)):\n",
    "        if len(data[i]['dialogue'].split('\\r\\n')) > 1:\n",
    "            sentences = data[i]['dialogue'].replace(\" |\", \" \").split('\\r\\n')\n",
    "            \n",
    "        else:\n",
    "            sentences = data[i]['dialogue'].replace(\" |\", \" \").split('\\n')\n",
    "            \n",
    "        if len(sentences) == 1:\n",
    "            continue\n",
    "        summaries.append(data[i]['summary'].strip('\\n').replace('\\r\\nt', ' '))\n",
    "\n",
    "        if len(labels) > 1:\n",
    "            \n",
    "            temp = ''\n",
    "            temp += sentences[0]\n",
    "            for j in range(1, len(sentences)):\n",
    "                if labels[i][j] != labels[i][j-1]:\n",
    "                    \n",
    "                    temp = temp + sep + sentences[j]\n",
    "                else:\n",
    "                    temp = temp + ' ' + sentences[j]\n",
    "            temp += ' | '\n",
    "            conversations.append(temp)\n",
    "        elif labels[0] == 1:\n",
    "            conversations.append('' + ' </s><s> '.join(sentences))\n",
    "        elif labels[0] == 0:\n",
    "            conversations.append(' | ' + ' '.join(sentences))\n",
    "        \n",
    "    return conversations, summaries\n",
    "    \n",
    "\n",
    "def transform_format(prefix):\n",
    "    with open(prefix + '.json', encoding = 'utf8') as json_file:\n",
    "        data = json.load(json_file)\n",
    "    labels = [1]\n",
    "    cons, sums = concat_conversation(data, labels)\n",
    "    print(len(cons))\n",
    "    print(len(sums))\n",
    "    with open(prefix +'.source', 'wt', encoding='utf-8') as source_file, open(prefix + '.target', 'wt', encoding='utf-8') as target_file:\n",
    "        \n",
    "        for i in range(0, len(cons)):\n",
    "            #print(i)\n",
    "            article = cons[i]\n",
    "            abstract = sums[i]\n",
    "            #try:\n",
    "            source_file.write(article + '\\n')\n",
    "            target_file.write(abstract + '\\n')\n",
    "            #except:\n",
    "            #    print(article)"
   ]
  },
  {
   "cell_type": "code",
   "execution_count": 89,
   "metadata": {},
   "outputs": [
    {
     "name": "stdout",
     "output_type": "stream",
     "text": [
      "14731\n",
      "14731\n",
      "818\n",
      "818\n",
      "819\n",
      "819\n"
     ]
    }
   ],
   "source": [
    "for u in ['train', 'val', 'test']:\n",
    "    transform_format(u)"
   ]
  },
  {
   "cell_type": "code",
   "execution_count": null,
   "metadata": {},
   "outputs": [],
   "source": []
  }
 ],
 "metadata": {
  "kernelspec": {
   "display_name": "Python 3",
   "language": "python",
   "name": "python3"
  },
  "language_info": {
   "codemirror_mode": {
    "name": "ipython",
    "version": 3
   },
   "file_extension": ".py",
   "mimetype": "text/x-python",
   "name": "python",
   "nbconvert_exporter": "python",
   "pygments_lexer": "ipython3",
   "version": "3.8.3"
  }
 },
 "nbformat": 4,
 "nbformat_minor": 4
}
