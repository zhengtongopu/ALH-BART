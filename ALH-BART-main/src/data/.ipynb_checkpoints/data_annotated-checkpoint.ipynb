{
 "cells": [
  {
   "cell_type": "code",
   "execution_count": 1,
   "metadata": {},
   "outputs": [],
   "source": [
    "from rouge import Rouge, FilesRouge"
   ]
  },
  {
   "cell_type": "code",
   "execution_count": 2,
   "metadata": {},
   "outputs": [],
   "source": [
    "rouge = Rouge()"
   ]
  },
  {
   "cell_type": "code",
   "execution_count": 3,
   "metadata": {},
   "outputs": [],
   "source": [
    "import json"
   ]
  },
  {
   "cell_type": "code",
   "execution_count": 392,
   "metadata": {},
   "outputs": [],
   "source": [
    "def read_data(prefix):\n",
    "    with open(prefix + '.json', encoding = 'utf8') as json_file:\n",
    "        data = json.load(json_file)\n",
    "    \n",
    "    \n",
    "    conversations = []\n",
    "    summaries = []\n",
    "    \n",
    "    for i in range(0, len(data)):\n",
    "        \n",
    "        if len(data[i]['dialogue'].split('\\r\\n')) > 1:\n",
    "            sentences = data[i]['dialogue'].replace(\"|\", \" \").split('\\r\\n')\n",
    "            \n",
    "        else:\n",
    "            sentences = data[i]['dialogue'].replace(\"|\", \" \").split('\\n')\n",
    "    \n",
    "        if len(sentences) == 1:\n",
    "            continue\n",
    "        \n",
    "        #conversations.append(data[i]['dialogue'].replace(\"\\r\\n\", \"\\n\"))\n",
    "        \n",
    "        #conversations.append(data[i]['dialogue'].replace(\"\\n\", \" | \"))\n",
    "        \n",
    "        #conversations.append(data[i]['dialogue'].replace(\"\\n\", \"/n\"))\n",
    "        \n",
    "        conversations.append(\" || \".join(sentences))\n",
    "    \n",
    "        summaries.append(data[i]['summary'].strip('\\n').replace('\\r\\nt', ' '))\n",
    "        \n",
    "\n",
    "    return conversations, summaries"
   ]
  },
  {
   "cell_type": "code",
   "execution_count": 393,
   "metadata": {},
   "outputs": [],
   "source": [
    "conversations, summaries = read_data('test')"
   ]
  },
  {
   "cell_type": "code",
   "execution_count": null,
   "metadata": {},
   "outputs": [],
   "source": []
  },
  {
   "cell_type": "code",
   "execution_count": 22,
   "metadata": {},
   "outputs": [],
   "source": [
    "from rouge import Rouge, FilesRouge\n",
    "hyp_path = './test_best_multi_attn.hypo'\n",
    "ref_path = './test_sent_trans_cons_label.target'\n",
    "hypothesis_multi = []\n",
    "with open(hyp_path, 'r') as f:\n",
    "    lines = f.readlines()\n",
    "    for l in lines:\n",
    "        hypothesis_multi.append(l[:-1])\n",
    "reference = []\n",
    "with open(ref_path, 'r') as f:\n",
    "    lines = f.readlines()\n",
    "    for l in lines:\n",
    "        reference.append(l[:-1])"
   ]
  },
  {
   "cell_type": "code",
   "execution_count": 23,
   "metadata": {},
   "outputs": [
    {
     "data": {
      "text/plain": [
       "{'rouge-1': {'f': 0.4926715239884693,\n",
       "  'p': 0.5108029648674335,\n",
       "  'r': 0.5219570569003451},\n",
       " 'rouge-2': {'f': 0.2558636496743384,\n",
       "  'p': 0.26492420066329386,\n",
       "  'r': 0.27426035174586133},\n",
       " 'rouge-l': {'f': 0.47719814085685447,\n",
       "  'p': 0.4930024065293114,\n",
       "  'r': 0.4994343729879935}}"
      ]
     },
     "execution_count": 23,
     "metadata": {},
     "output_type": "execute_result"
    }
   ],
   "source": [
    "rouge.get_scores(hypothesis_multi, reference, avg = True)"
   ]
  },
  {
   "cell_type": "code",
   "execution_count": 24,
   "metadata": {},
   "outputs": [
    {
     "data": {
      "text/plain": [
       "{'rouge-1': {'f': 0.48651415780843865,\n",
       "  'p': 0.4976194787128767,\n",
       "  'r': 0.5212687481558532},\n",
       " 'rouge-2': {'f': 0.2512197166989672,\n",
       "  'p': 0.25680948320116515,\n",
       "  'r': 0.27192417924407314},\n",
       " 'rouge-l': {'f': 0.4734303384742894,\n",
       "  'p': 0.48260846443581595,\n",
       "  'r': 0.5013043010605941}}"
      ]
     },
     "execution_count": 24,
     "metadata": {},
     "output_type": "execute_result"
    }
   ],
   "source": [
    "from rouge import Rouge, FilesRouge\n",
    "hyp_path = './test_best_topic.hypo'\n",
    "ref_path = './test_sent_trans_cons_label.target'\n",
    "hypothesis_topic = []\n",
    "with open(hyp_path, 'r') as f:\n",
    "    lines = f.readlines()\n",
    "    for l in lines:\n",
    "        hypothesis_topic.append(l[:-1])\n",
    "reference = []\n",
    "with open(ref_path, 'r') as f:\n",
    "    lines = f.readlines()\n",
    "    for l in lines:\n",
    "        reference.append(l[:-1])\n",
    "rouge.get_scores(hypothesis_topic, reference, avg = True)"
   ]
  },
  {
   "cell_type": "code",
   "execution_count": 25,
   "metadata": {},
   "outputs": [
    {
     "data": {
      "text/plain": [
       "{'rouge-1': {'f': 0.4794372272289224,\n",
       "  'p': 0.5127699901559887,\n",
       "  'r': 0.4919555939016324},\n",
       " 'rouge-2': {'f': 0.24615013440565756,\n",
       "  'p': 0.2653532132646085,\n",
       "  'r': 0.25305871333629776},\n",
       " 'rouge-l': {'f': 0.46382491426549993,\n",
       "  'p': 0.49155508767588635,\n",
       "  'r': 0.4731116009986086}}"
      ]
     },
     "execution_count": 25,
     "metadata": {},
     "output_type": "execute_result"
    }
   ],
   "source": [
    "from rouge import Rouge, FilesRouge\n",
    "hyp_path = './test_best_hmm.hypo'\n",
    "ref_path = './test_sent_trans_cons_label.target'\n",
    "hypothesis_hmm = []\n",
    "with open(hyp_path, 'r') as f:\n",
    "    lines = f.readlines()\n",
    "    for l in lines:\n",
    "        hypothesis_hmm.append(l[:-1])\n",
    "reference = []\n",
    "with open(ref_path, 'r') as f:\n",
    "    lines = f.readlines()\n",
    "    for l in lines:\n",
    "        reference.append(l[:-1])\n",
    "rouge.get_scores(hypothesis_hmm, reference, avg = True)"
   ]
  },
  {
   "cell_type": "code",
   "execution_count": 152,
   "metadata": {},
   "outputs": [
    {
     "data": {
      "text/plain": [
       "{'rouge-1': {'f': 0.48503665027020776,\n",
       "  'p': 0.47432712481368483,\n",
       "  'r': 0.5456384564897485},\n",
       " 'rouge-2': {'f': 0.24874860434457965,\n",
       "  'p': 0.24392829468224705,\n",
       "  'r': 0.28197174782363743},\n",
       " 'rouge-l': {'f': 0.47107800035487074,\n",
       "  'p': 0.4617741737123916,\n",
       "  'r': 0.5187665265196592}}"
      ]
     },
     "execution_count": 152,
     "metadata": {},
     "output_type": "execute_result"
    }
   ],
   "source": [
    "from rouge import Rouge, FilesRouge\n",
    "hyp_path = './test_best_none.hypo'\n",
    "ref_path = './test_sent_trans_cons_label.target'\n",
    "hypothesis_none = []\n",
    "with open(hyp_path, 'r') as f:\n",
    "    lines = f.readlines()\n",
    "    for l in lines:\n",
    "        hypothesis_none.append(l[:-1])\n",
    "reference = []\n",
    "with open(ref_path, 'r') as f:\n",
    "    lines = f.readlines()\n",
    "    for l in lines:\n",
    "        reference.append(l[:-1])\n",
    "rouge.get_scores(hypothesis_none, reference, avg = True)"
   ]
  },
  {
   "cell_type": "code",
   "execution_count": 28,
   "metadata": {},
   "outputs": [
    {
     "data": {
      "text/plain": [
       "{'rouge-1': {'f': 0.4783524074135709,\n",
       "  'p': 0.492729463177103,\n",
       "  'r': 0.5114588239938075},\n",
       " 'rouge-2': {'f': 0.2432142668426537,\n",
       "  'p': 0.25025391867042573,\n",
       "  'r': 0.2628822688022806},\n",
       " 'rouge-l': {'f': 0.45776357034092285,\n",
       "  'p': 0.4687271553355361,\n",
       "  'r': 0.48455471220276775}}"
      ]
     },
     "execution_count": 28,
     "metadata": {},
     "output_type": "execute_result"
    }
   ],
   "source": [
    "from rouge import Rouge, FilesRouge\n",
    "hyp_path = './test_best_all2.hypo'\n",
    "ref_path = './test_sent_trans_cons_label.target'\n",
    "hypothesis_all = []\n",
    "with open(hyp_path, 'r') as f:\n",
    "    lines = f.readlines()\n",
    "    for l in lines:\n",
    "        hypothesis_all.append(l[:-1])\n",
    "reference = []\n",
    "with open(ref_path, 'r') as f:\n",
    "    lines = f.readlines()\n",
    "    for l in lines:\n",
    "        reference.append(l[:-1])\n",
    "rouge.get_scores(hypothesis_all, reference, avg = True)"
   ]
  },
  {
   "cell_type": "code",
   "execution_count": 331,
   "metadata": {},
   "outputs": [],
   "source": [
    "import numpy as np\n",
    "ids = np.arange(0, 819)"
   ]
  },
  {
   "cell_type": "code",
   "execution_count": 332,
   "metadata": {},
   "outputs": [],
   "source": [
    "np.random.seed(0)\n",
    "np.random.shuffle(ids)"
   ]
  },
  {
   "cell_type": "code",
   "execution_count": 333,
   "metadata": {},
   "outputs": [],
   "source": [
    "idx = ids[100:300]"
   ]
  },
  {
   "cell_type": "code",
   "execution_count": 334,
   "metadata": {},
   "outputs": [
    {
     "data": {
      "text/plain": [
       "200"
      ]
     },
     "execution_count": 334,
     "metadata": {},
     "output_type": "execute_result"
    }
   ],
   "source": [
    "len(idx)"
   ]
  },
  {
   "cell_type": "code",
   "execution_count": 335,
   "metadata": {},
   "outputs": [],
   "source": [
    "ref = [reference[i] for i in idx]"
   ]
  },
  {
   "cell_type": "code",
   "execution_count": 336,
   "metadata": {},
   "outputs": [],
   "source": [
    "hyp_all = [hypothesis_all[i] for i in idx]\n",
    "hyp_none = [hypothesis_none[i] for i in idx]\n",
    "hyp_hmm = [hypothesis_hmm[i] for i in idx]\n",
    "hyp_topic = [hypothesis_topic[i] for i in idx]\n",
    "hyp_multi = [hypothesis_multi[i] for i in idx]"
   ]
  },
  {
   "cell_type": "code",
   "execution_count": 337,
   "metadata": {},
   "outputs": [
    {
     "data": {
      "text/plain": [
       "{'rouge-1': {'f': 0.46748920168389674,\n",
       "  'p': 0.4731262017781929,\n",
       "  'r': 0.5161370458602323},\n",
       " 'rouge-2': {'f': 0.23674392982220993,\n",
       "  'p': 0.23495971538280944,\n",
       "  'r': 0.27246220698665974},\n",
       " 'rouge-l': {'f': 0.45491164135529033,\n",
       "  'p': 0.45545012029853493,\n",
       "  'r': 0.4987365278630476}}"
      ]
     },
     "execution_count": 337,
     "metadata": {},
     "output_type": "execute_result"
    }
   ],
   "source": [
    "rouge.get_scores(hyp_all, ref, avg = True)"
   ]
  },
  {
   "cell_type": "code",
   "execution_count": 338,
   "metadata": {},
   "outputs": [
    {
     "data": {
      "text/plain": [
       "{'rouge-1': {'f': 0.4695797791263477,\n",
       "  'p': 0.45292399359046087,\n",
       "  'r': 0.5514379854003071},\n",
       " 'rouge-2': {'f': 0.24299890820766323,\n",
       "  'p': 0.23188593205202188,\n",
       "  'r': 0.29451766607061536},\n",
       " 'rouge-l': {'f': 0.4677694410466189,\n",
       "  'p': 0.45011176619073856,\n",
       "  'r': 0.5359844729768144}}"
      ]
     },
     "execution_count": 338,
     "metadata": {},
     "output_type": "execute_result"
    }
   ],
   "source": [
    "rouge.get_scores(hyp_none, ref, avg = True)"
   ]
  },
  {
   "cell_type": "code",
   "execution_count": 339,
   "metadata": {},
   "outputs": [
    {
     "data": {
      "text/plain": [
       "{'rouge-1': {'f': 0.46375250184432004,\n",
       "  'p': 0.4857446146434179,\n",
       "  'r': 0.4930976795024193},\n",
       " 'rouge-2': {'f': 0.23843103120094392,\n",
       "  'p': 0.24797738752568438,\n",
       "  'r': 0.26026794230078376},\n",
       " 'rouge-l': {'f': 0.45974860059904316,\n",
       "  'p': 0.47502816427430894,\n",
       "  'r': 0.48639535287425717}}"
      ]
     },
     "execution_count": 339,
     "metadata": {},
     "output_type": "execute_result"
    }
   ],
   "source": [
    "rouge.get_scores(hyp_hmm, ref, avg = True)"
   ]
  },
  {
   "cell_type": "code",
   "execution_count": 340,
   "metadata": {},
   "outputs": [
    {
     "data": {
      "text/plain": [
       "{'rouge-1': {'f': 0.46525116896557894,\n",
       "  'p': 0.4675347710875921,\n",
       "  'r': 0.5160336759868261},\n",
       " 'rouge-2': {'f': 0.24315440609181876,\n",
       "  'p': 0.24117036810744522,\n",
       "  'r': 0.2797431209704088},\n",
       " 'rouge-l': {'f': 0.46351534249927906,\n",
       "  'p': 0.46221659375704943,\n",
       "  'r': 0.5091906217753867}}"
      ]
     },
     "execution_count": 340,
     "metadata": {},
     "output_type": "execute_result"
    }
   ],
   "source": [
    "rouge.get_scores(hyp_topic, ref, avg = True)"
   ]
  },
  {
   "cell_type": "code",
   "execution_count": 341,
   "metadata": {},
   "outputs": [
    {
     "data": {
      "text/plain": [
       "{'rouge-1': {'f': 0.4864369873725024,\n",
       "  'p': 0.4902788982107502,\n",
       "  'r': 0.5386338943282074},\n",
       " 'rouge-2': {'f': 0.2561010656866925,\n",
       "  'p': 0.25568300623763474,\n",
       "  'r': 0.2920547901172681},\n",
       " 'rouge-l': {'f': 0.48212197522706535,\n",
       "  'p': 0.48337440973993845,\n",
       "  'r': 0.526622373405652}}"
      ]
     },
     "execution_count": 341,
     "metadata": {},
     "output_type": "execute_result"
    }
   ],
   "source": [
    "rouge.get_scores(hyp_multi, ref, avg = True)"
   ]
  },
  {
   "cell_type": "code",
   "execution_count": 349,
   "metadata": {},
   "outputs": [
    {
     "data": {
      "text/plain": [
       "666"
      ]
     },
     "execution_count": 349,
     "metadata": {},
     "output_type": "execute_result"
    }
   ],
   "source": [
    "idx[0]"
   ]
  },
  {
   "cell_type": "code",
   "execution_count": null,
   "metadata": {},
   "outputs": [],
   "source": []
  },
  {
   "cell_type": "code",
   "execution_count": 343,
   "metadata": {},
   "outputs": [
    {
     "data": {
      "text/plain": [
       "\"Lilian's mum has been calling her all day. Lilian's phone battery died, so she called them and told them Lilian is at Helen's place.\""
      ]
     },
     "execution_count": 343,
     "metadata": {},
     "output_type": "execute_result"
    }
   ],
   "source": [
    "hyp_multi[0]"
   ]
  },
  {
   "cell_type": "code",
   "execution_count": 344,
   "metadata": {},
   "outputs": [],
   "source": [
    "import pandas as pd"
   ]
  },
  {
   "cell_type": "code",
   "execution_count": 394,
   "metadata": {},
   "outputs": [
    {
     "name": "stdout",
     "output_type": "stream",
     "text": [
      "Kevin: Hey. Your mum has been calling me all day asking where you are. || Kevin: Where are you at? || Lilian: Ooh. My phone battery died || Lilian: But I called them and told them I am at Helen's place || Kevin: Okay.\n"
     ]
    }
   ],
   "source": [
    "print(conversations[idx[0]])"
   ]
  },
  {
   "cell_type": "code",
   "execution_count": 388,
   "metadata": {},
   "outputs": [
    {
     "data": {
      "text/plain": [
       "\"Lilian has already told them she is at Helen's place.\""
      ]
     },
     "execution_count": 388,
     "metadata": {},
     "output_type": "execute_result"
    }
   ],
   "source": [
    "ref[0]"
   ]
  },
  {
   "cell_type": "code",
   "execution_count": null,
   "metadata": {},
   "outputs": [],
   "source": []
  },
  {
   "cell_type": "code",
   "execution_count": 395,
   "metadata": {},
   "outputs": [],
   "source": [
    "annot = {'Conversation':[], 'Summary':[], 'Indicate':[], 'idx':[]}\n",
    "\n",
    "for i in range(0, len(idx)):\n",
    "    annot['Conversation'].append(conversations[idx[i]])\n",
    "    annot['idx'].append(idx[i])\n",
    "    annot['Summary'].append(ref[i])\n",
    "    annot['Indicate'].append('ref')\n",
    "    \n",
    "    annot['Conversation'].append(conversations[idx[i]])\n",
    "    annot['idx'].append(idx[i])\n",
    "    annot['Summary'].append(hyp_multi[i])\n",
    "    annot['Indicate'].append('multi')\n",
    "    \n",
    "    annot['Conversation'].append(conversations[idx[i]])\n",
    "    annot['idx'].append(idx[i])\n",
    "    annot['Summary'].append(hyp_topic[i])\n",
    "    annot['Indicate'].append('topic')\n",
    "    \n",
    "    annot['Conversation'].append(conversations[idx[i]])\n",
    "    annot['idx'].append(idx[i])\n",
    "    annot['Summary'].append(hyp_hmm[i])\n",
    "    annot['Indicate'].append('hmm')\n",
    "    \n",
    "    \n",
    "    annot['Conversation'].append(conversations[idx[i]])\n",
    "    annot['idx'].append(idx[i])\n",
    "    annot['Summary'].append(hyp_none[i])\n",
    "    annot['Indicate'].append('none')\n",
    "    \n",
    "    annot['Conversation'].append(conversations[idx[i]])\n",
    "    annot['idx'].append(idx[i])\n",
    "    annot['Summary'].append(hyp_all[i])\n",
    "    annot['Indicate'].append('all')\n",
    "    \n",
    "    \n",
    "    \n",
    "    \n",
    "    "
   ]
  },
  {
   "cell_type": "code",
   "execution_count": 396,
   "metadata": {},
   "outputs": [],
   "source": [
    "df = pd.DataFrame(annot)"
   ]
  },
  {
   "cell_type": "code",
   "execution_count": 397,
   "metadata": {},
   "outputs": [],
   "source": [
    "df.to_csv('annotate.csv', index = False)"
   ]
  },
  {
   "cell_type": "code",
   "execution_count": 370,
   "metadata": {},
   "outputs": [
    {
     "data": {
      "text/plain": [
       "\"Angie: Hello. I'd like to make an appointment. \\nMs. Quinn: Hello. Of course. What's your medical issue?\\nAngie: It's kind of private...\\nMs. Quinn: I understand. No chats are recorded. And I need to know what you're coming in with to direct you to the correct doctor. \\nAngie: Well, fine. I have severe stomach pain.\\nMs. Quinn: When did it start?\\nAngie: Like an hour ago. I took some pills but to no avail. \\nMs. Quinn: I understand. Do you have your doctor?\\nAngie: Yes. Doctor Cartman.\\nMs. Quinn: He's not in today. Doctor McCormick can see you in an hour. Will that be fine?\\nAngie: Yes, thank you. I'm on my way.\\nMs. Quinn: I've signed you up and I'll tell the doctor you're coming. \""
      ]
     },
     "execution_count": 370,
     "metadata": {},
     "output_type": "execute_result"
    }
   ],
   "source": [
    "annot['Conversation'][6]"
   ]
  },
  {
   "cell_type": "code",
   "execution_count": null,
   "metadata": {},
   "outputs": [],
   "source": []
  }
 ],
 "metadata": {
  "kernelspec": {
   "display_name": "Python 3",
   "language": "python",
   "name": "python3"
  },
  "language_info": {
   "codemirror_mode": {
    "name": "ipython",
    "version": 3
   },
   "file_extension": ".py",
   "mimetype": "text/x-python",
   "name": "python",
   "nbconvert_exporter": "python",
   "pygments_lexer": "ipython3",
   "version": "3.7.6"
  }
 },
 "nbformat": 4,
 "nbformat_minor": 4
}
