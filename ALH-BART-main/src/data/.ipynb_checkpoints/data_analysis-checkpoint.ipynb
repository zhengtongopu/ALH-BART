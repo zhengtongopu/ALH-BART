{
 "cells": [
  {
   "cell_type": "code",
   "execution_count": 1,
   "metadata": {},
   "outputs": [],
   "source": [
    "import pickle\n",
    "import json\n",
    "import re\n",
    "from rouge import Rouge, FilesRouge\n",
    "import nltk"
   ]
  },
  {
   "cell_type": "code",
   "execution_count": 2,
   "metadata": {},
   "outputs": [],
   "source": [
    "rouge = Rouge()"
   ]
  },
  {
   "cell_type": "code",
   "execution_count": 3,
   "metadata": {},
   "outputs": [],
   "source": [
    "from nltk.tokenize import word_tokenize"
   ]
  },
  {
   "cell_type": "code",
   "execution_count": 179,
   "metadata": {},
   "outputs": [],
   "source": [
    "def read_names(s):\n",
    "    temp = \"\"\n",
    "    flag = 0\n",
    "    for i in range(0, len(s)):\n",
    "        \n",
    "        if s[i] == ':':\n",
    "            break\n",
    "        temp += s[i]\n",
    "    return temp"
   ]
  },
  {
   "cell_type": "code",
   "execution_count": 180,
   "metadata": {},
   "outputs": [],
   "source": [
    "def read_data(prefix):\n",
    "    with open(prefix + '.json', encoding = 'utf8') as json_file:\n",
    "        data = json.load(json_file)\n",
    "        \n",
    "    summary_len = []\n",
    "    roles = []\n",
    "    rounds = []\n",
    "    \n",
    "    for i in range(0, len(data)):\n",
    "        summary = data[i]['summary']\n",
    "        dialogue = data[i]['dialogue']\n",
    "        \n",
    "        tokenize_summary = word_tokenize(summary)\n",
    "        \n",
    "        summary_len.append(len(tokenize_summary))\n",
    "        \n",
    "        \n",
    "        if len(data[i]['dialogue'].split('\\r\\n')) > 1:\n",
    "            sentences = data[i]['dialogue'].replace(\"|\", \" \").split('\\r\\n')\n",
    "            \n",
    "        else:\n",
    "            sentences = data[i]['dialogue'].replace(\"|\", \" \").split('\\n')\n",
    "            \n",
    "        rounds.append(len(sentences))\n",
    "        \n",
    "        names = set()\n",
    "        for j in range(0, len(sentences)):\n",
    "            names.add(read_names(sentences[j]))\n",
    "            \n",
    "    \n",
    "        roles.append(len(names))\n",
    "            \n",
    "        \n",
    "    return summary_len, roles, rounds, data"
   ]
  },
  {
   "cell_type": "code",
   "execution_count": 181,
   "metadata": {},
   "outputs": [],
   "source": [
    "summary_len, roles, rounds, data = read_data('train')"
   ]
  },
  {
   "cell_type": "code",
   "execution_count": 40,
   "metadata": {},
   "outputs": [
    {
     "data": {
      "text/plain": [
       "819"
      ]
     },
     "execution_count": 40,
     "metadata": {},
     "output_type": "execute_result"
    }
   ],
   "source": [
    "len(summary_len)"
   ]
  },
  {
   "cell_type": "code",
   "execution_count": 41,
   "metadata": {},
   "outputs": [
    {
     "data": {
      "text/plain": [
       "23.123321123321123"
      ]
     },
     "execution_count": 41,
     "metadata": {},
     "output_type": "execute_result"
    }
   ],
   "source": [
    "sum(summary_len)/len(summary_len)"
   ]
  },
  {
   "cell_type": "code",
   "execution_count": 42,
   "metadata": {},
   "outputs": [
    {
     "data": {
      "text/plain": [
       "2.363858363858364"
      ]
     },
     "execution_count": 42,
     "metadata": {},
     "output_type": "execute_result"
    }
   ],
   "source": [
    "sum(roles)/len(roles)"
   ]
  },
  {
   "cell_type": "code",
   "execution_count": 43,
   "metadata": {},
   "outputs": [
    {
     "data": {
      "text/plain": [
       "11.247863247863247"
      ]
     },
     "execution_count": 43,
     "metadata": {},
     "output_type": "execute_result"
    }
   ],
   "source": [
    "sum(rounds)/len(rounds)"
   ]
  },
  {
   "cell_type": "code",
   "execution_count": null,
   "metadata": {},
   "outputs": [],
   "source": []
  },
  {
   "cell_type": "code",
   "execution_count": 44,
   "metadata": {},
   "outputs": [
    {
     "data": {
      "text/plain": [
       "819"
      ]
     },
     "execution_count": 44,
     "metadata": {},
     "output_type": "execute_result"
    }
   ],
   "source": [
    "len(roles)"
   ]
  },
  {
   "cell_type": "code",
   "execution_count": 45,
   "metadata": {},
   "outputs": [],
   "source": [
    "hyp_path = 'test_best_multi_attn.hypo'\n",
    "ref_path = 'test_sent_trans_cons_label.target'"
   ]
  },
  {
   "cell_type": "code",
   "execution_count": 46,
   "metadata": {},
   "outputs": [],
   "source": [
    "hypothesis = []\n",
    "with open(hyp_path, 'r') as f:\n",
    "    lines = f.readlines()\n",
    "    for l in lines:\n",
    "        hypothesis.append(l[:-1])"
   ]
  },
  {
   "cell_type": "code",
   "execution_count": 47,
   "metadata": {},
   "outputs": [],
   "source": [
    "reference = []\n",
    "with open(ref_path, 'r') as f:\n",
    "    lines = f.readlines()\n",
    "    for l in lines:\n",
    "        reference.append(l[:-1])"
   ]
  },
  {
   "cell_type": "code",
   "execution_count": 51,
   "metadata": {},
   "outputs": [],
   "source": [
    "rouge_scores = rouge.get_scores(hypothesis, reference)"
   ]
  },
  {
   "cell_type": "code",
   "execution_count": 52,
   "metadata": {},
   "outputs": [
    {
     "data": {
      "text/plain": [
       "819"
      ]
     },
     "execution_count": 52,
     "metadata": {},
     "output_type": "execute_result"
    }
   ],
   "source": [
    "len(rouge_scores)"
   ]
  },
  {
   "cell_type": "code",
   "execution_count": 122,
   "metadata": {},
   "outputs": [],
   "source": []
  },
  {
   "cell_type": "code",
   "execution_count": null,
   "metadata": {},
   "outputs": [],
   "source": []
  },
  {
   "cell_type": "code",
   "execution_count": 139,
   "metadata": {},
   "outputs": [],
   "source": [
    "roles_dict_1 = {}\n",
    "roles_dict_2 = {}\n",
    "roles_dict_l = {}\n",
    "for i in range(0, len(rouge_scores)):\n",
    "    if roles[i] not in roles_dict_1:\n",
    "        roles_dict_1[roles[i]] = []\n",
    "    if roles[i] not in roles_dict_2:\n",
    "        roles_dict_2[roles[i]] = []\n",
    "    if roles[i] not in roles_dict_l:   \n",
    "        roles_dict_l[roles[i]] = []\n",
    "        \n",
    "    roles_dict_1[roles[i]].append(rouge_scores[i]['rouge-1']['f'])\n",
    "    roles_dict_2[roles[i]].append(rouge_scores[i]['rouge-2']['f'])\n",
    "    roles_dict_l[roles[i]].append(rouge_scores[i]['rouge-l']['f'])\n",
    "    \n",
    "    \n",
    "    \n",
    "    "
   ]
  },
  {
   "cell_type": "code",
   "execution_count": 140,
   "metadata": {},
   "outputs": [],
   "source": [
    "x2 = []\n",
    "y4 = []\n",
    "y5 = []\n",
    "y6 = []"
   ]
  },
  {
   "cell_type": "code",
   "execution_count": 142,
   "metadata": {},
   "outputs": [],
   "source": [
    "x2.sort()\n",
    "x2 = x2[:-1]\n",
    "for i in x2:\n",
    "    y4.append(sum(roles_dict_1[i])/len(roles_dict_1[i]))\n",
    "    y5.append(sum(roles_dict_2[i])/len(roles_dict_2[i]))\n",
    "    y6.append(sum(roles_dict_l[i])/len(roles_dict_l[i]))"
   ]
  },
  {
   "cell_type": "code",
   "execution_count": null,
   "metadata": {},
   "outputs": [],
   "source": []
  },
  {
   "cell_type": "code",
   "execution_count": 141,
   "metadata": {},
   "outputs": [
    {
     "name": "stdout",
     "output_type": "stream",
     "text": [
      "2 0.4911052325764661 622\n",
      "4 0.5031335481006401 47\n",
      "3 0.5143737959148363 134\n",
      "6 0.298115074892774 4\n",
      "7 0.2746031703603246 4\n",
      "11 0.5853658486853064 1\n",
      "9 0.1818181781450873 1\n",
      "5 0.39985017713903837 6\n"
     ]
    }
   ],
   "source": [
    "for (u, v) in roles_dict_1.items():\n",
    "    x2.append(u)\n",
    "    #y4.append(sum(v)/len(v))\n",
    "    print(u, sum(v)/len(v), len(v))"
   ]
  },
  {
   "cell_type": "code",
   "execution_count": 94,
   "metadata": {},
   "outputs": [
    {
     "name": "stdout",
     "output_type": "stream",
     "text": [
      "2 0.2524398141572868 622\n",
      "4 0.25335600071864617 47\n",
      "3 0.28570578003666375 134\n",
      "6 0.1596590380905829 4\n",
      "7 0.11523125644439877 4\n",
      "11 0.2564102514398423 1\n",
      "9 0.06249999641113302 1\n",
      "5 0.15399778212842216 6\n"
     ]
    }
   ],
   "source": [
    "for (u, v) in roles_dict_2.items():\n",
    "    y5.append(sum(v)/len(v))\n",
    "    print(u, sum(v)/len(v), len(v))"
   ]
  },
  {
   "cell_type": "code",
   "execution_count": 95,
   "metadata": {},
   "outputs": [
    {
     "name": "stdout",
     "output_type": "stream",
     "text": [
      "2 0.4751214267517823 622\n",
      "4 0.4872547688626267 47\n",
      "3 0.49967279447870655 134\n",
      "6 0.29789362872208835 4\n",
      "7 0.28446788610717505 4\n",
      "11 0.5499999950125002 1\n",
      "9 0.2181818140561984 1\n",
      "5 0.390832242846531 6\n"
     ]
    }
   ],
   "source": [
    "for (u, v) in roles_dict_l.items():\n",
    "    y6.append(sum(v)/len(v))\n",
    "    print(u, sum(v)/len(v), len(v))"
   ]
  },
  {
   "cell_type": "code",
   "execution_count": null,
   "metadata": {},
   "outputs": [],
   "source": []
  },
  {
   "cell_type": "code",
   "execution_count": 75,
   "metadata": {},
   "outputs": [
    {
     "data": {
      "text/plain": [
       "819"
      ]
     },
     "execution_count": 75,
     "metadata": {},
     "output_type": "execute_result"
    }
   ],
   "source": [
    "len(rounds)"
   ]
  },
  {
   "cell_type": "code",
   "execution_count": null,
   "metadata": {},
   "outputs": [],
   "source": []
  },
  {
   "cell_type": "code",
   "execution_count": 144,
   "metadata": {},
   "outputs": [],
   "source": [
    "roles_dict_1 = {}\n",
    "roles_dict_2 = {}\n",
    "roles_dict_l = {}\n",
    "\n",
    "for i in range(0, len(rouge_scores)):\n",
    "    if rounds[i] not in roles_dict_1:\n",
    "        roles_dict_1[rounds[i]] = []\n",
    "    if rounds[i] not in roles_dict_2:\n",
    "        roles_dict_2[rounds[i]] = []\n",
    "    if rounds[i] not in roles_dict_l:   \n",
    "        roles_dict_l[rounds[i]] = []\n",
    "        \n",
    "    roles_dict_1[rounds[i]].append(rouge_scores[i]['rouge-1']['f'])\n",
    "    roles_dict_2[rounds[i]].append(rouge_scores[i]['rouge-2']['f'])\n",
    "    roles_dict_l[rounds[i]].append(rouge_scores[i]['rouge-l']['f'])"
   ]
  },
  {
   "cell_type": "code",
   "execution_count": 145,
   "metadata": {},
   "outputs": [],
   "source": [
    "x = []\n"
   ]
  },
  {
   "cell_type": "code",
   "execution_count": 131,
   "metadata": {},
   "outputs": [],
   "source": [
    "\n"
   ]
  },
  {
   "cell_type": "code",
   "execution_count": 147,
   "metadata": {},
   "outputs": [],
   "source": [
    "x.sort()\n",
    "y1 = []\n",
    "y2 = []\n",
    "y3 = []\n",
    "\n",
    "for i in x:\n",
    "    y1.append(sum(roles_dict_1[i])/len(roles_dict_1[i]))\n",
    "    y2.append(sum(roles_dict_2[i])/len(roles_dict_2[i]))\n",
    "    y3.append(sum(roles_dict_l[i])/len(roles_dict_l[i]))\n",
    "    "
   ]
  },
  {
   "cell_type": "code",
   "execution_count": null,
   "metadata": {},
   "outputs": [],
   "source": []
  },
  {
   "cell_type": "code",
   "execution_count": 146,
   "metadata": {
    "scrolled": true
   },
   "outputs": [
    {
     "name": "stdout",
     "output_type": "stream",
     "text": [
      "15 0.42872690779446926 35\n",
      "16 0.463549357761992 32\n",
      "10 0.46628161142768104 39\n",
      "24 0.44174378771101674 11\n",
      "18 0.4603148076241706 25\n",
      "28 0.4432513445525604 9\n",
      "8 0.5052213310796219 60\n",
      "14 0.449619877790838 54\n",
      "7 0.5077005260040703 47\n",
      "4 0.5736264317573045 66\n",
      "12 0.41786098586023807 30\n",
      "13 0.3999778623957681 34\n",
      "9 0.5259408050699621 42\n",
      "21 0.4236399809627549 13\n",
      "6 0.55329901320662 86\n",
      "3 0.5989321945941856 42\n",
      "5 0.564321565523273 57\n",
      "23 0.4182396152636195 10\n",
      "17 0.45256991296234766 20\n",
      "11 0.44556327199589996 28\n",
      "20 0.45422107040164217 21\n",
      "19 0.4089146611202075 20\n",
      "22 0.45450118369973913 20\n",
      "25 0.4504570436736926 6\n",
      "26 0.4966984546812978 2\n",
      "30 0.3777244860450073 4\n",
      "29 0.41843433872813107 4\n",
      "27 0.3846153801323313 2\n"
     ]
    }
   ],
   "source": [
    "for (u, v) in roles_dict_1.items():\n",
    "    x.append(u)\n",
    "    #y1.append(sum(v)/len(v))\n",
    "    print(u, sum(v)/len(v), len(v))"
   ]
  },
  {
   "cell_type": "code",
   "execution_count": 84,
   "metadata": {
    "scrolled": true
   },
   "outputs": [
    {
     "name": "stdout",
     "output_type": "stream",
     "text": [
      "15 0.18066855364452716 35\n",
      "16 0.21094446158494812 32\n",
      "10 0.22532239967448658 39\n",
      "24 0.19795454269881996 11\n",
      "18 0.24941258404912056 25\n",
      "28 0.22964178975584057 9\n",
      "8 0.2708555573993535 60\n",
      "14 0.21568841524794036 54\n",
      "7 0.2828563921485183 47\n",
      "4 0.3364556365992202 66\n",
      "12 0.2025202217752399 30\n",
      "13 0.18885249259443823 34\n",
      "9 0.28197474763294295 42\n",
      "21 0.200880998682683 13\n",
      "6 0.3079122222602565 86\n",
      "3 0.3353803012650835 42\n",
      "5 0.3021083206909002 57\n",
      "23 0.19669022172798972 10\n",
      "17 0.2140110623988598 20\n",
      "11 0.2272561995866227 28\n",
      "20 0.2296555217806276 21\n",
      "19 0.16909703795890846 20\n",
      "22 0.23268072296527534 20\n",
      "25 0.2344301946091553 6\n",
      "26 0.29404761448164685 2\n",
      "30 0.11508832971591974 4\n",
      "29 0.19858493249650128 4\n",
      "27 0.17857142412698424 2\n"
     ]
    }
   ],
   "source": [
    "for (u, v) in roles_dict_2.items():\n",
    "    y2.append(sum(v)/len(v))\n",
    "    print(u, sum(v)/len(v), len(v))"
   ]
  },
  {
   "cell_type": "code",
   "execution_count": 85,
   "metadata": {
    "scrolled": true
   },
   "outputs": [
    {
     "name": "stdout",
     "output_type": "stream",
     "text": [
      "15 0.4160759057426256 35\n",
      "16 0.44339431981293065 32\n",
      "10 0.4513030809697706 39\n",
      "24 0.42526211243963435 11\n",
      "18 0.45566564440648266 25\n",
      "28 0.4408524960369602 9\n",
      "8 0.48194641939182054 60\n",
      "14 0.4525698312461018 54\n",
      "7 0.5002017273848067 47\n",
      "4 0.5375783492718651 66\n",
      "12 0.41725528916227783 30\n",
      "13 0.40252882810941637 34\n",
      "9 0.510387290110413 42\n",
      "21 0.410561407495743 13\n",
      "6 0.528111612384023 86\n",
      "3 0.5669040768571533 42\n",
      "5 0.5334103578393844 57\n",
      "23 0.42302694587001 10\n",
      "17 0.4477673789396908 20\n",
      "11 0.42543349516971335 28\n",
      "20 0.4624382312314256 21\n",
      "19 0.4010387441594466 20\n",
      "22 0.45211549643177085 20\n",
      "25 0.43470825502269445 6\n",
      "26 0.4891304300144731 2\n",
      "30 0.3718531545488829 4\n",
      "29 0.40196077959199594 4\n",
      "27 0.46390243428885436 2\n"
     ]
    }
   ],
   "source": [
    "for (u, v) in roles_dict_l.items():\n",
    "    y3.append(sum(v)/len(v))\n",
    "    print(u, sum(v)/len(v), len(v))"
   ]
  },
  {
   "cell_type": "code",
   "execution_count": 116,
   "metadata": {},
   "outputs": [
    {
     "data": {
      "text/plain": [
       "8"
      ]
     },
     "execution_count": 116,
     "metadata": {},
     "output_type": "execute_result"
    }
   ],
   "source": [
    "len(x)"
   ]
  },
  {
   "cell_type": "code",
   "execution_count": 97,
   "metadata": {},
   "outputs": [
    {
     "data": {
      "text/plain": [
       "8"
      ]
     },
     "execution_count": 97,
     "metadata": {},
     "output_type": "execute_result"
    }
   ],
   "source": [
    "len(x2)"
   ]
  },
  {
   "cell_type": "code",
   "execution_count": 87,
   "metadata": {},
   "outputs": [],
   "source": [
    "import numpy as np\n",
    "import matplotlib.pyplot as plt\n",
    "import pylab as pl\n",
    "from mpl_toolkits.axes_grid1.inset_locator import inset_axes"
   ]
  },
  {
   "cell_type": "code",
   "execution_count": 88,
   "metadata": {},
   "outputs": [],
   "source": []
  },
  {
   "cell_type": "code",
   "execution_count": 161,
   "metadata": {},
   "outputs": [
    {
     "data": {
      "image/png": "[encoded data removed]",
      "text/plain": [
       "<Figure size 1152x216 with 2 Axes>"
      ]
     },
     "metadata": {
      "needs_background": "light"
     },
     "output_type": "display_data"
    }
   ],
   "source": [
    "plt.rcParams.update({'font.size': 20})\n",
    "\n",
    "plt.figure(figsize = (16,3))\n",
    "\n",
    "plt.subplots_adjust(wspace =0.2, hspace =0.2)\n",
    "\n",
    "plt.subplot(121)\n",
    "pl.plot(x2,y4,'g.-',label=u'Rouge-1')\n",
    "p2 = pl.plot(x2, y5,'r.-', label = u'Rouge-2')\n",
    "#pl.legend()\n",
    "p3 = pl.plot(x2,y6, 'b.-', label = u'Rouge-L')\n",
    "pl.legend()\n",
    "\n",
    "plt.title('Roles')\n",
    "\n",
    "plt.subplot(122)\n",
    "pl.plot(x,y1,'g.-',label=u'Rouge-1')\n",
    "p2 = pl.plot(x, y2,'r.-', label = u'Rouge-2')\n",
    "#pl.legend()\n",
    "p3 = pl.plot(x,y3, 'b.-', label = u'Rouge-L')\n",
    "pl.legend()\n",
    "\n",
    "plt.title('Rounds')\n",
    "\n",
    "plt.show()"
   ]
  },
  {
   "cell_type": "code",
   "execution_count": 163,
   "metadata": {},
   "outputs": [],
   "source": [
    "with open('./image_data/roles_rounds.pkl', 'wb') as f:\n",
    "    temp = {'roles':[x2, y3, y4, y5], 'rounds':[x, y1, y2, y3]}\n",
    "    pickle.dump(temp, f)"
   ]
  },
  {
   "cell_type": "code",
   "execution_count": null,
   "metadata": {},
   "outputs": [],
   "source": []
  },
  {
   "cell_type": "code",
   "execution_count": null,
   "metadata": {},
   "outputs": [],
   "source": []
  },
  {
   "cell_type": "code",
   "execution_count": 164,
   "metadata": {},
   "outputs": [],
   "source": [
    "with open('test' + '.json', encoding = 'utf8') as json_file:\n",
    "        data = json.load(json_file)"
   ]
  },
  {
   "cell_type": "code",
   "execution_count": null,
   "metadata": {},
   "outputs": [],
   "source": []
  },
  {
   "cell_type": "code",
   "execution_count": 281,
   "metadata": {},
   "outputs": [],
   "source": [
    "with open('test' + '_sent_trans_cons_label_2.pkl', 'rb') as f:\n",
    "    labels = pickle.load(f)"
   ]
  },
  {
   "cell_type": "code",
   "execution_count": 286,
   "metadata": {},
   "outputs": [
    {
     "data": {
      "text/plain": [
       "array([0, 0, 0, 0, 0, 0, 0, 0, 0, 0, 0, 0, 0, 0, 0, 0, 0, 0])"
      ]
     },
     "execution_count": 286,
     "metadata": {},
     "output_type": "execute_result"
    }
   ],
   "source": [
    "labels[712]"
   ]
  },
  {
   "cell_type": "code",
   "execution_count": 178,
   "metadata": {},
   "outputs": [],
   "source": [
    "with open('train' + '_sent_trans_cons_label_2.pkl', 'rb') as f:\n",
    "    labels = pickle.load(f)"
   ]
  },
  {
   "cell_type": "code",
   "execution_count": 183,
   "metadata": {},
   "outputs": [
    {
     "data": {
      "text/plain": [
       "14732"
      ]
     },
     "execution_count": 183,
     "metadata": {},
     "output_type": "execute_result"
    }
   ],
   "source": [
    "len(data)"
   ]
  },
  {
   "cell_type": "code",
   "execution_count": 182,
   "metadata": {},
   "outputs": [
    {
     "data": {
      "text/plain": [
       "14732"
      ]
     },
     "execution_count": 182,
     "metadata": {},
     "output_type": "execute_result"
    }
   ],
   "source": [
    "len(labels)"
   ]
  },
  {
   "cell_type": "code",
   "execution_count": 215,
   "metadata": {},
   "outputs": [],
   "source": [
    "from sklearn.feature_extraction.text import CountVectorizer\n",
    "from nltk.tokenize import word_tokenize\n",
    "from collections import Counter\n",
    "\n"
   ]
  },
  {
   "cell_type": "code",
   "execution_count": 273,
   "metadata": {
    "scrolled": true
   },
   "outputs": [],
   "source": [
    "from nltk import word_tokenize\n",
    "import string\n",
    "\n",
    "stages = {0:[], 1:[], 2:[], 3:[]}\n",
    "\n",
    "def remove_name(s):\n",
    "    temp = \"\"\n",
    "    flag = 0\n",
    "    for i in range(0, len(s)):\n",
    "        if s[i] == ':':\n",
    "            flag = 1\n",
    "            continue\n",
    "        if flag == 1:\n",
    "            temp += s[i]\n",
    "    return temp\n",
    "        \n",
    "\n",
    "for i in range(0, len(data)):\n",
    "    if len(data[i]['dialogue'].split('\\r\\n')) > 1:\n",
    "        sentences = data[i]['dialogue'].replace(\"|\", \" \").split('\\r\\n')\n",
    "\n",
    "    else:\n",
    "        sentences = data[i]['dialogue'].replace(\"|\", \" \").split('\\n')\n",
    "\n",
    "    if len(sentences) == 1:\n",
    "        continue\n",
    "    \n",
    "    for j in range(0, len(labels[i])):\n",
    "        sentenc = sentences[j].lower()\n",
    "        words = word_tokenize(remove_name(sentenc).translate(str.maketrans('', '', string.punctuation)))\n",
    "        for w in words:\n",
    "            if w not in stopwords:\n",
    "                stages[labels[i][j]].append(w)\n",
    "        \n",
    "    \n",
    "        \n",
    "    \n",
    "\n",
    "\n",
    "    "
   ]
  },
  {
   "cell_type": "code",
   "execution_count": 274,
   "metadata": {
    "scrolled": true
   },
   "outputs": [],
   "source": [
    "c = Counter(stages[0])"
   ]
  },
  {
   "cell_type": "code",
   "execution_count": 275,
   "metadata": {
    "scrolled": true
   },
   "outputs": [
    {
     "data": {
      "text/plain": [
       "[('im', 3045),\n",
       " ('know', 2468),\n",
       " ('like', 2043),\n",
       " ('hey', 2024),\n",
       " ('hi', 1993),\n",
       " ('good', 1669),\n",
       " ('yeah', 1663),\n",
       " ('’', 1654),\n",
       " ('yes', 1583),\n",
       " ('one', 1578),\n",
       " ('dont', 1550),\n",
       " ('ok', 1550),\n",
       " ('going', 1489),\n",
       " ('think', 1452),\n",
       " ('time', 1406),\n",
       " ('u', 1312),\n",
       " ('go', 1263),\n",
       " ('sure', 1238),\n",
       " ('need', 1213),\n",
       " ('really', 1213),\n",
       " ('well', 1190),\n",
       " ('new', 1167),\n",
       " ('got', 1143),\n",
       " ('get', 1130),\n",
       " ('oh', 1113),\n",
       " ('filephoto', 1047),\n",
       " ('want', 1030),\n",
       " ('see', 1011),\n",
       " ('today', 1005),\n",
       " ('come', 980),\n",
       " ('thats', 954),\n",
       " ('would', 942),\n",
       " ('whats', 885),\n",
       " ('right', 873),\n",
       " ('could', 831),\n",
       " ('ive', 825),\n",
       " ('ill', 795),\n",
       " ('great', 782),\n",
       " ('home', 775),\n",
       " ('guys', 766),\n",
       " ('still', 760),\n",
       " ('much', 757),\n",
       " ('last', 754),\n",
       " ('something', 752),\n",
       " ('na', 734),\n",
       " ('work', 720),\n",
       " ('back', 681),\n",
       " ('maybe', 670),\n",
       " ('cant', 651),\n",
       " ('tomorrow', 646),\n",
       " ('youre', 622),\n",
       " ('us', 621),\n",
       " ('lol', 614),\n",
       " ('nice', 594),\n",
       " ('hello', 582),\n",
       " ('coming', 581),\n",
       " ('thanks', 581),\n",
       " ('tell', 555),\n",
       " ('seen', 548),\n",
       " ('take', 543)]"
      ]
     },
     "execution_count": 275,
     "metadata": {},
     "output_type": "execute_result"
    }
   ],
   "source": [
    "c.most_common(60)"
   ]
  },
  {
   "cell_type": "code",
   "execution_count": 276,
   "metadata": {},
   "outputs": [],
   "source": [
    "c = Counter(stages[1])"
   ]
  },
  {
   "cell_type": "code",
   "execution_count": 277,
   "metadata": {
    "scrolled": true
   },
   "outputs": [
    {
     "data": {
      "text/plain": [
       "[('dont', 3157),\n",
       " ('im', 2533),\n",
       " ('know', 2226),\n",
       " ('’', 2055),\n",
       " ('like', 1860),\n",
       " ('really', 1437),\n",
       " ('think', 1359),\n",
       " ('sorry', 1160),\n",
       " ('well', 1145),\n",
       " ('cant', 1055),\n",
       " ('time', 1035),\n",
       " ('get', 1024),\n",
       " ('one', 944),\n",
       " ('thats', 883),\n",
       " ('want', 879),\n",
       " ('oh', 869),\n",
       " ('yeah', 843),\n",
       " ('didnt', 833),\n",
       " ('would', 789),\n",
       " ('good', 767),\n",
       " ('much', 765),\n",
       " ('go', 745),\n",
       " ('even', 703),\n",
       " ('maybe', 689),\n",
       " ('youre', 670),\n",
       " ('sure', 651),\n",
       " ('need', 625),\n",
       " ('people', 624),\n",
       " ('got', 612),\n",
       " ('going', 596),\n",
       " ('yes', 585),\n",
       " ('see', 583),\n",
       " ('still', 577),\n",
       " ('work', 555),\n",
       " ('right', 549),\n",
       " ('never', 544),\n",
       " ('ok', 540),\n",
       " ('wont', 539),\n",
       " ('bad', 537),\n",
       " ('something', 521),\n",
       " ('ive', 515),\n",
       " ('lol', 496),\n",
       " ('come', 478),\n",
       " ('anything', 473),\n",
       " ('doesnt', 472),\n",
       " ('way', 453),\n",
       " ('feel', 450),\n",
       " ('make', 448),\n",
       " ('bit', 444),\n",
       " ('say', 442)]"
      ]
     },
     "execution_count": 277,
     "metadata": {},
     "output_type": "execute_result"
    }
   ],
   "source": [
    "c.most_common(50)"
   ]
  },
  {
   "cell_type": "code",
   "execution_count": 278,
   "metadata": {},
   "outputs": [],
   "source": [
    "c = Counter(stages[2])"
   ]
  },
  {
   "cell_type": "code",
   "execution_count": 279,
   "metadata": {
    "scrolled": true
   },
   "outputs": [
    {
     "data": {
      "text/plain": [
       "[('ok', 2881),\n",
       " ('ill', 2694),\n",
       " ('im', 2514),\n",
       " ('know', 2271),\n",
       " ('see', 1710),\n",
       " ('go', 1677),\n",
       " ('yes', 1520),\n",
       " ('well', 1476),\n",
       " ('time', 1456),\n",
       " ('like', 1439),\n",
       " ('sure', 1414),\n",
       " ('’', 1353),\n",
       " ('think', 1346),\n",
       " ('get', 1326),\n",
       " ('yeah', 1310),\n",
       " ('need', 1208),\n",
       " ('dont', 1207),\n",
       " ('good', 1163),\n",
       " ('one', 1161),\n",
       " ('come', 1127),\n",
       " ('would', 1065),\n",
       " ('thats', 952),\n",
       " ('maybe', 939),\n",
       " ('let', 917),\n",
       " ('going', 890),\n",
       " ('want', 874),\n",
       " ('oh', 871),\n",
       " ('right', 859),\n",
       " ('great', 854),\n",
       " ('tomorrow', 847),\n",
       " ('really', 786),\n",
       " ('back', 772),\n",
       " ('could', 763),\n",
       " ('got', 741),\n",
       " ('take', 738),\n",
       " ('something', 729),\n",
       " ('work', 719),\n",
       " ('next', 708),\n",
       " ('meet', 704),\n",
       " ('u', 678),\n",
       " ('make', 637),\n",
       " ('youre', 621),\n",
       " ('filephoto', 606),\n",
       " ('lol', 596),\n",
       " ('wait', 591),\n",
       " ('us', 579),\n",
       " ('lets', 570),\n",
       " ('na', 560),\n",
       " ('3', 556),\n",
       " ('try', 548)]"
      ]
     },
     "execution_count": 279,
     "metadata": {},
     "output_type": "execute_result"
    }
   ],
   "source": [
    "c.most_common(50)"
   ]
  },
  {
   "cell_type": "code",
   "execution_count": 280,
   "metadata": {
    "scrolled": true
   },
   "outputs": [
    {
     "data": {
      "text/plain": [
       "[('thanks', 1858),\n",
       " ('ok', 1287),\n",
       " ('good', 1053),\n",
       " ('see', 1004),\n",
       " ('thank', 780),\n",
       " ('sure', 723),\n",
       " ('great', 645),\n",
       " ('ill', 607),\n",
       " ('know', 586),\n",
       " ('im', 574),\n",
       " ('love', 536),\n",
       " ('yes', 520),\n",
       " ('yeah', 481),\n",
       " ('thats', 456),\n",
       " ('well', 445),\n",
       " ('youre', 412),\n",
       " ('nice', 370),\n",
       " ('bye', 357),\n",
       " ('cool', 357),\n",
       " ('like', 355),\n",
       " ('problem', 346),\n",
       " ('’', 335),\n",
       " ('really', 321),\n",
       " ('dont', 320),\n",
       " ('hope', 311),\n",
       " ('right', 309),\n",
       " ('okay', 284),\n",
       " ('much', 282),\n",
       " ('take', 260),\n",
       " ('fine', 256),\n",
       " ('think', 255),\n",
       " ('get', 247),\n",
       " ('oh', 247),\n",
       " ('perfect', 239),\n",
       " ('best', 235),\n",
       " ('happy', 235),\n",
       " ('care', 222),\n",
       " ('time', 218),\n",
       " ('luck', 218),\n",
       " ('sounds', 217),\n",
       " ('3', 212),\n",
       " ('would', 212),\n",
       " ('one', 204),\n",
       " ('let', 200),\n",
       " ('soon', 191),\n",
       " ('go', 184),\n",
       " ('fun', 179),\n",
       " ('guys', 174),\n",
       " ('better', 173),\n",
       " ('day', 168)]"
      ]
     },
     "execution_count": 280,
     "metadata": {},
     "output_type": "execute_result"
    }
   ],
   "source": [
    "c = Counter(stages[3])\n",
    "c.most_common(50)"
   ]
  },
  {
   "cell_type": "code",
   "execution_count": null,
   "metadata": {},
   "outputs": [],
   "source": []
  },
  {
   "cell_type": "code",
   "execution_count": null,
   "metadata": {},
   "outputs": [],
   "source": []
  },
  {
   "cell_type": "code",
   "execution_count": null,
   "metadata": {},
   "outputs": [],
   "source": []
  },
  {
   "cell_type": "code",
   "execution_count": 235,
   "metadata": {
    "scrolled": true
   },
   "outputs": [],
   "source": [
    "import nltk\n",
    "from nltk.corpus import stopwords\n",
    "stopwords = set(stopwords.words('english'))\n"
   ]
  },
  {
   "cell_type": "code",
   "execution_count": null,
   "metadata": {},
   "outputs": [],
   "source": []
  },
  {
   "cell_type": "code",
   "execution_count": null,
   "metadata": {},
   "outputs": [],
   "source": []
  }
 ],
 "metadata": {
  "kernelspec": {
   "display_name": "Python 3",
   "language": "python",
   "name": "python3"
  },
  "language_info": {
   "codemirror_mode": {
    "name": "ipython",
    "version": 3
   },
   "file_extension": ".py",
   "mimetype": "text/x-python",
   "name": "python",
   "nbconvert_exporter": "python",
   "pygments_lexer": "ipython3",
   "version": "3.7.6"
  }
 },
 "nbformat": 4,
 "nbformat_minor": 4
}
