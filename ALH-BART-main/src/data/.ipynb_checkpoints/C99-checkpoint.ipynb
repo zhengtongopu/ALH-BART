{
 "cells": [
  {
   "cell_type": "code",
   "execution_count": 119,
   "metadata": {},
   "outputs": [],
   "source": [
    "import uts"
   ]
  },
  {
   "cell_type": "code",
   "execution_count": 120,
   "metadata": {},
   "outputs": [],
   "source": [
    "import json\n",
    "with open('train.json', encoding = 'utf8') as json_file:\n",
    "    train = json.load(json_file)\n",
    "with open('test.json', encoding = 'utf8') as json_file:\n",
    "    test = json.load(json_file)\n",
    "with open('val.json', encoding = 'utf8') as json_file:\n",
    "    val = json.load(json_file)"
   ]
  },
  {
   "cell_type": "code",
   "execution_count": 121,
   "metadata": {},
   "outputs": [],
   "source": [
    "import gensim"
   ]
  },
  {
   "cell_type": "code",
   "execution_count": 122,
   "metadata": {},
   "outputs": [],
   "source": [
    "def remove_name(s):\n",
    "    temp = \"\"\n",
    "    flag = 0\n",
    "    for i in range(0, len(s)):\n",
    "        if s[i] == ':':\n",
    "            flag = 1\n",
    "            continue\n",
    "        if flag == 1:\n",
    "            temp += s[i]\n",
    "    return temp"
   ]
  },
  {
   "cell_type": "code",
   "execution_count": 123,
   "metadata": {},
   "outputs": [],
   "source": [
    "sent = []\n",
    "for data in (train, test, val):\n",
    "    for i in range(0, len(data)):\n",
    "        if len(data[i]['dialogue'].split('\\r\\n')) > 1:\n",
    "            sentences = data[i]['dialogue'].split('\\r\\n')\n",
    "        else:\n",
    "            sentences = data[i]['dialogue'].split('\\n')\n",
    "        sent.append(sentences)"
   ]
  },
  {
   "cell_type": "code",
   "execution_count": 124,
   "metadata": {},
   "outputs": [
    {
     "data": {
      "text/plain": [
       "['Amanda: I baked  cookies. Do you want some?',\n",
       " 'Jerry: Sure!',\n",
       " \"Amanda: I'll bring you tomorrow :-)\"]"
      ]
     },
     "execution_count": 124,
     "metadata": {},
     "output_type": "execute_result"
    }
   ],
   "source": [
    "sent[0]"
   ]
  },
  {
   "cell_type": "code",
   "execution_count": 125,
   "metadata": {},
   "outputs": [],
   "source": [
    "import string\n",
    "from nltk.tokenize import word_tokenize\n",
    "table = str.maketrans('', '', string.punctuation)\n",
    "sentences = []\n",
    "for i in range(0, len(sent)):\n",
    "    for s in sent[i]:\n",
    "        temp_sent = remove_name(s)\n",
    "        tokens = word_tokenize(temp_sent)\n",
    "        tokens = [w.lower() for w in tokens]\n",
    "        stripped = [w.translate(table) for w in tokens]\n",
    "        sentences.append(stripped)"
   ]
  },
  {
   "cell_type": "code",
   "execution_count": 126,
   "metadata": {},
   "outputs": [
    {
     "data": {
      "text/plain": [
       "['i', 'baked', 'cookies', '', 'do', 'you', 'want', 'some', '']"
      ]
     },
     "execution_count": 126,
     "metadata": {},
     "output_type": "execute_result"
    }
   ],
   "source": [
    "sentences[0]"
   ]
  },
  {
   "cell_type": "code",
   "execution_count": 127,
   "metadata": {},
   "outputs": [],
   "source": [
    "import gensim"
   ]
  },
  {
   "cell_type": "code",
   "execution_count": 128,
   "metadata": {},
   "outputs": [],
   "source": [
    "model = gensim.models.Word2Vec(sentences, size=100, window=5, min_count=3, workers=4)"
   ]
  },
  {
   "cell_type": "code",
   "execution_count": 129,
   "metadata": {},
   "outputs": [],
   "source": [
    "model.save(\"word2vec.model\")"
   ]
  },
  {
   "cell_type": "code",
   "execution_count": 130,
   "metadata": {},
   "outputs": [],
   "source": [
    "import numpy as np\n",
    "def encode_sent_using_word2vec(sent):\n",
    "    words = word_tokenize(sent)\n",
    "    embed = np.zeros([100])\n",
    "    count = 0\n",
    "    for w in words:\n",
    "        if w.lower() in model:\n",
    "            count += 1\n",
    "            embed += model.wv[w.lower()]\n",
    "    embed = embed/count\n",
    "    return embed"
   ]
  },
  {
   "cell_type": "code",
   "execution_count": null,
   "metadata": {},
   "outputs": [],
   "source": []
  },
  {
   "cell_type": "code",
   "execution_count": 131,
   "metadata": {},
   "outputs": [],
   "source": [
    "def encode_conversation(profix):\n",
    "    with open(profix + '.json', encoding = 'utf8') as json_file:\n",
    "        data = json.load(json_file)\n",
    "    \n",
    "    sent = []\n",
    "    for i in range(0, len(data)):\n",
    "        if len(data[i]['dialogue'].split('\\r\\n')) > 1:\n",
    "            sentences = data[i]['dialogue'].split('\\r\\n')\n",
    "        else:\n",
    "            sentences = data[i]['dialogue'].split('\\n')\n",
    "        sent.append(sentences)\n",
    "        \n",
    "    \n",
    "    embeddings = []\n",
    "    for i in range(0, len(sent)):\n",
    "        emb = []\n",
    "        for j in range(0, len(sent[i])):\n",
    "            temp_sent = remove_name(sent[i][j])\n",
    "            emb.append(encode_sent_using_word2vec(temp_sent))\n",
    "        embeddings.append(emb)\n",
    "            \n",
    "            \n",
    "    with open(profix + '_word2vec.pkl', 'wb') as f:\n",
    "        pickle.dump(embeddings, f)\n",
    "    \n",
    "        \n",
    "    return embeddings"
   ]
  },
  {
   "cell_type": "code",
   "execution_count": 132,
   "metadata": {},
   "outputs": [
    {
     "name": "stderr",
     "output_type": "stream",
     "text": [
      "/nethome/jchen896/anaconda3/envs/new_torch/lib/python3.6/site-packages/ipykernel_launcher.py:7: DeprecationWarning: Call to deprecated `__contains__` (Method will be removed in 4.0.0, use self.wv.__contains__() instead).\n",
      "  import sys\n",
      "/nethome/jchen896/anaconda3/envs/new_torch/lib/python3.6/site-packages/ipykernel_launcher.py:10: RuntimeWarning: invalid value encountered in true_divide\n",
      "  # Remove the CWD from sys.path while we load stuff.\n"
     ]
    }
   ],
   "source": [
    "embeddings = encode_conversation('train')"
   ]
  },
  {
   "cell_type": "code",
   "execution_count": 133,
   "metadata": {},
   "outputs": [
    {
     "name": "stderr",
     "output_type": "stream",
     "text": [
      "/nethome/jchen896/anaconda3/envs/new_torch/lib/python3.6/site-packages/ipykernel_launcher.py:7: DeprecationWarning: Call to deprecated `__contains__` (Method will be removed in 4.0.0, use self.wv.__contains__() instead).\n",
      "  import sys\n",
      "/nethome/jchen896/anaconda3/envs/new_torch/lib/python3.6/site-packages/ipykernel_launcher.py:10: RuntimeWarning: invalid value encountered in true_divide\n",
      "  # Remove the CWD from sys.path while we load stuff.\n"
     ]
    }
   ],
   "source": [
    "embeddings = encode_conversation('val')"
   ]
  },
  {
   "cell_type": "code",
   "execution_count": 134,
   "metadata": {},
   "outputs": [
    {
     "name": "stderr",
     "output_type": "stream",
     "text": [
      "/nethome/jchen896/anaconda3/envs/new_torch/lib/python3.6/site-packages/ipykernel_launcher.py:7: DeprecationWarning: Call to deprecated `__contains__` (Method will be removed in 4.0.0, use self.wv.__contains__() instead).\n",
      "  import sys\n",
      "/nethome/jchen896/anaconda3/envs/new_torch/lib/python3.6/site-packages/ipykernel_launcher.py:10: RuntimeWarning: invalid value encountered in true_divide\n",
      "  # Remove the CWD from sys.path while we load stuff.\n"
     ]
    }
   ],
   "source": [
    "embeddings = encode_conversation('test')"
   ]
  },
  {
   "cell_type": "code",
   "execution_count": null,
   "metadata": {},
   "outputs": [],
   "source": []
  },
  {
   "cell_type": "code",
   "execution_count": 316,
   "metadata": {},
   "outputs": [],
   "source": [
    "import pickle\n",
    "with open('train_word2vec.pkl', 'rb') as f:\n",
    "    train = pickle.load(f)\n",
    "with open('val_word2vec.pkl', 'rb') as f:\n",
    "    val = pickle.load(f)\n",
    "with open('test_word2vec.pkl', 'rb') as f:\n",
    "    test = pickle.load(f)"
   ]
  },
  {
   "cell_type": "code",
   "execution_count": 317,
   "metadata": {},
   "outputs": [],
   "source": [
    "from C99 import C99"
   ]
  },
  {
   "cell_type": "code",
   "execution_count": 318,
   "metadata": {},
   "outputs": [],
   "source": [
    "def encode_convs(profix):\n",
    "    model = C99(window = 4, std_coeff = 0.8)\n",
    "    sent_label = []\n",
    "    with open(profix+\"_word2vec.pkl\", 'rb') as f:\n",
    "        data = pickle.load(f)\n",
    "    for i in range(0, len(data)):\n",
    "        boundary = model.segment(data[i])\n",
    "        temp_labels = []\n",
    "        l = 0\n",
    "        for j in range(0, len(boundary)):\n",
    "            if boundary[j] == 1:\n",
    "                l += 1\n",
    "            temp_labels.append(l)\n",
    "        sent_label.append(temp_labels)\n",
    "    \n",
    "    with open(profix + '_word_c99_label.pkl', 'wb') as f:\n",
    "        pickle.dump(sent_label, f)\n",
    "    \n",
    "    return sent_label"
   ]
  },
  {
   "cell_type": "code",
   "execution_count": null,
   "metadata": {},
   "outputs": [],
   "source": [
    "l = encode_convs('train')"
   ]
  },
  {
   "cell_type": "code",
   "execution_count": null,
   "metadata": {},
   "outputs": [],
   "source": [
    "l = encode_convs('val')"
   ]
  },
  {
   "cell_type": "code",
   "execution_count": null,
   "metadata": {},
   "outputs": [],
   "source": [
    "l = encode_convs('test')"
   ]
  },
  {
   "cell_type": "code",
   "execution_count": null,
   "metadata": {},
   "outputs": [],
   "source": []
  },
  {
   "cell_type": "code",
   "execution_count": null,
   "metadata": {},
   "outputs": [],
   "source": []
  },
  {
   "cell_type": "code",
   "execution_count": 309,
   "metadata": {},
   "outputs": [],
   "source": [
    "from C99 import C99"
   ]
  },
  {
   "cell_type": "code",
   "execution_count": 310,
   "metadata": {},
   "outputs": [],
   "source": [
    "import pickle\n",
    "with open('train_sentence_transformer.pkl', 'rb') as f:\n",
    "    train = pickle.load(f)\n",
    "with open('val_sentence_transformer.pkl', 'rb') as f:\n",
    "    val = pickle.load(f)\n",
    "with open('test_sentence_transformer.pkl', 'rb') as f:\n",
    "    test = pickle.load(f)"
   ]
  },
  {
   "cell_type": "code",
   "execution_count": null,
   "metadata": {},
   "outputs": [],
   "source": []
  },
  {
   "cell_type": "code",
   "execution_count": null,
   "metadata": {},
   "outputs": [],
   "source": []
  },
  {
   "cell_type": "code",
   "execution_count": 311,
   "metadata": {},
   "outputs": [],
   "source": [
    "def encode_convs(profix):\n",
    "    model = C99(window = 4, std_coeff = 1)\n",
    "    sent_label = []\n",
    "    with open(profix+\"_sentence_transformer.pkl\", 'rb') as f:\n",
    "        data = pickle.load(f)\n",
    "    for i in range(0, len(data)):\n",
    "        boundary = model.segment(data[i])\n",
    "        temp_labels = []\n",
    "        l = 0\n",
    "        for j in range(0, len(boundary)):\n",
    "            if boundary[j] == 1:\n",
    "                l += 1\n",
    "            temp_labels.append(l)\n",
    "        sent_label.append(temp_labels)\n",
    "    \n",
    "    with open(profix + '_sent_c99_label.pkl', 'wb') as f:\n",
    "        pickle.dump(sent_label, f)\n",
    "    \n",
    "    return sent_label"
   ]
  },
  {
   "cell_type": "code",
   "execution_count": 312,
   "metadata": {},
   "outputs": [],
   "source": [
    "l = encode_convs('train')"
   ]
  },
  {
   "cell_type": "code",
   "execution_count": 313,
   "metadata": {},
   "outputs": [],
   "source": [
    "l = encode_convs('val')"
   ]
  },
  {
   "cell_type": "code",
   "execution_count": 314,
   "metadata": {},
   "outputs": [],
   "source": [
    "l = encode_convs('test')"
   ]
  },
  {
   "cell_type": "code",
   "execution_count": 315,
   "metadata": {},
   "outputs": [
    {
     "data": {
      "text/plain": [
       "[1, 1, 1, 2, 2, 2, 3, 3, 3, 4, 4, 5, 5, 5, 5]"
      ]
     },
     "execution_count": 315,
     "metadata": {},
     "output_type": "execute_result"
    }
   ],
   "source": [
    "l[0]"
   ]
  },
  {
   "cell_type": "code",
   "execution_count": null,
   "metadata": {},
   "outputs": [],
   "source": []
  },
  {
   "cell_type": "code",
   "execution_count": 231,
   "metadata": {},
   "outputs": [],
   "source": [
    "#import uts"
   ]
  },
  {
   "cell_type": "code",
   "execution_count": 232,
   "metadata": {},
   "outputs": [],
   "source": [
    "#model = uts.C99(window = 5)"
   ]
  },
  {
   "cell_type": "code",
   "execution_count": 149,
   "metadata": {},
   "outputs": [],
   "source": [
    "#boundary = model.segment(sent[0])"
   ]
  },
  {
   "cell_type": "code",
   "execution_count": 150,
   "metadata": {},
   "outputs": [],
   "source": [
    "#boundary"
   ]
  },
  {
   "cell_type": "code",
   "execution_count": null,
   "metadata": {},
   "outputs": [],
   "source": []
  },
  {
   "cell_type": "code",
   "execution_count": 264,
   "metadata": {},
   "outputs": [],
   "source": [
    "def encode_convs(profix):\n",
    "    model = uts.C99(window=4, std_coeff = 1)\n",
    "    sent_label = []\n",
    "    \n",
    "    with open(profix + '.json', encoding = 'utf8') as json_file:\n",
    "        data = json.load(json_file)\n",
    "    \n",
    "    sent = []\n",
    "    for i in range(0, len(data)):\n",
    "        if len(data[i]['dialogue'].split('\\r\\n')) > 1:\n",
    "            sentences = data[i]['dialogue'].split('\\r\\n')\n",
    "        else:\n",
    "            sentences = data[i]['dialogue'].split('\\n')\n",
    "        sent.append(sentences)\n",
    "        \n",
    "    for i in range(0, len(sent)):\n",
    "        boundary = model.segment(sent[i])\n",
    "        temp_labels = []\n",
    "        l = 0\n",
    "        for j in range(0, len(boundary)):\n",
    "            if boundary[j] == 1:\n",
    "                l += 1\n",
    "            temp_labels.append(l)\n",
    "        sent_label.append(temp_labels)\n",
    "    \n",
    "    with open(profix + '_bow_c99_label.pkl', 'wb') as f:\n",
    "        pickle.dump(sent_label, f)\n",
    "    return sent_label"
   ]
  },
  {
   "cell_type": "code",
   "execution_count": 265,
   "metadata": {},
   "outputs": [],
   "source": [
    "l = encode_convs('train')"
   ]
  },
  {
   "cell_type": "code",
   "execution_count": 266,
   "metadata": {},
   "outputs": [],
   "source": [
    "l = encode_convs('val')"
   ]
  },
  {
   "cell_type": "code",
   "execution_count": 267,
   "metadata": {},
   "outputs": [],
   "source": [
    "l = encode_convs('test')"
   ]
  },
  {
   "cell_type": "code",
   "execution_count": 268,
   "metadata": {},
   "outputs": [
    {
     "data": {
      "text/plain": [
       "[1, 1, 1, 2, 2, 2, 3, 3, 3, 3, 3, 3, 4, 4, 4]"
      ]
     },
     "execution_count": 268,
     "metadata": {},
     "output_type": "execute_result"
    }
   ],
   "source": [
    "l[0]"
   ]
  },
  {
   "cell_type": "code",
   "execution_count": null,
   "metadata": {},
   "outputs": [],
   "source": []
  },
  {
   "cell_type": "code",
   "execution_count": null,
   "metadata": {},
   "outputs": [],
   "source": []
  },
  {
   "cell_type": "code",
   "execution_count": 290,
   "metadata": {},
   "outputs": [],
   "source": [
    "from C99 import C99"
   ]
  },
  {
   "cell_type": "code",
   "execution_count": 298,
   "metadata": {},
   "outputs": [],
   "source": [
    "model = C99(window = 4, std_coeff = 1)"
   ]
  },
  {
   "cell_type": "code",
   "execution_count": 299,
   "metadata": {},
   "outputs": [],
   "source": [
    "boundary = model.segment(test[0])"
   ]
  },
  {
   "cell_type": "code",
   "execution_count": 300,
   "metadata": {},
   "outputs": [
    {
     "data": {
      "text/plain": [
       "[1, 0, 0, 1, 0, 0, 1, 0, 0, 1, 0, 1, 0, 0, 0]"
      ]
     },
     "execution_count": 300,
     "metadata": {},
     "output_type": "execute_result"
    }
   ],
   "source": [
    "boundary"
   ]
  },
  {
   "cell_type": "code",
   "execution_count": 301,
   "metadata": {},
   "outputs": [],
   "source": [
    "boundary = model.segment(test[1])"
   ]
  },
  {
   "cell_type": "code",
   "execution_count": 302,
   "metadata": {},
   "outputs": [
    {
     "data": {
      "text/plain": [
       "[1, 0, 1, 0, 0, 1, 0, 1, 0, 0, 1, 0, 1, 0, 0, 1]"
      ]
     },
     "execution_count": 302,
     "metadata": {},
     "output_type": "execute_result"
    }
   ],
   "source": [
    "boundary"
   ]
  },
  {
   "cell_type": "code",
   "execution_count": 303,
   "metadata": {},
   "outputs": [],
   "source": [
    "boundary = model.segment(train[10])"
   ]
  },
  {
   "cell_type": "code",
   "execution_count": 297,
   "metadata": {},
   "outputs": [
    {
     "data": {
      "text/plain": [
       "[1, 1, 0, 1, 0, 0, 0, 0, 1, 0, 0, 1]"
      ]
     },
     "execution_count": 297,
     "metadata": {},
     "output_type": "execute_result"
    }
   ],
   "source": [
    "boundary"
   ]
  },
  {
   "cell_type": "code",
   "execution_count": null,
   "metadata": {},
   "outputs": [],
   "source": []
  },
  {
   "cell_type": "code",
   "execution_count": null,
   "metadata": {},
   "outputs": [],
   "source": []
  }
 ],
 "metadata": {
  "kernelspec": {
   "display_name": "new_torch",
   "language": "python",
   "name": "new_torch"
  },
  "language_info": {
   "codemirror_mode": {
    "name": "ipython",
    "version": 3
   },
   "file_extension": ".py",
   "mimetype": "text/x-python",
   "name": "python",
   "nbconvert_exporter": "python",
   "pygments_lexer": "ipython3",
   "version": "3.6.10"
  }
 },
 "nbformat": 4,
 "nbformat_minor": 4
}
