{
 "cells": [
  {
   "cell_type": "code",
   "execution_count": 1,
   "metadata": {},
   "outputs": [],
   "source": [
    "import pickle\n",
    "import json\n",
    "\n",
    "import re"
   ]
  },
  {
   "cell_type": "code",
   "execution_count": 2,
   "metadata": {},
   "outputs": [],
   "source": [
    "with open('train' + '.json', encoding = 'utf8') as json_file:\n",
    "        data = json.load(json_file)"
   ]
  },
  {
   "cell_type": "code",
   "execution_count": 3,
   "metadata": {},
   "outputs": [
    {
     "data": {
      "text/plain": [
       "{'id': '13818513',\n",
       " 'summary': 'Amanda baked cookies and will bring Jerry some tomorrow.',\n",
       " 'dialogue': \"Amanda: I baked  cookies. Do you want some?\\r\\nJerry: Sure!\\r\\nAmanda: I'll bring you tomorrow :-)\"}"
      ]
     },
     "execution_count": 3,
     "metadata": {},
     "output_type": "execute_result"
    }
   ],
   "source": [
    "data[0]"
   ]
  },
  {
   "cell_type": "code",
   "execution_count": 4,
   "metadata": {},
   "outputs": [],
   "source": [
    "def concat_conversation(data, sep = ' | '):\n",
    "    conversations = []\n",
    "    summaries = []\n",
    "    for i in range(0, len(data)):\n",
    "        if len(data[i]['dialogue'].split('\\r\\n')) > 1:\n",
    "            sentences = data[i]['dialogue'].replace(\"|\", \" \").split('\\r\\n')\n",
    "            \n",
    "        else:\n",
    "            sentences = data[i]['dialogue'].replace(\"|\", \" \").split('\\n')\n",
    "            \n",
    "        if len(sentences) == 1:\n",
    "            continue\n",
    "            \n",
    "    \n",
    "        summaries.append(data[i]['summary'].strip('\\n').replace('\\r\\nt', ' '))\n",
    "        conversations.append(' \\n '.join(sentences))\n",
    "    \n",
    "    return conversations, summaries"
   ]
  },
  {
   "cell_type": "code",
   "execution_count": 5,
   "metadata": {},
   "outputs": [],
   "source": [
    "conversations, summaries = concat_conversation(data)"
   ]
  },
  {
   "cell_type": "code",
   "execution_count": 6,
   "metadata": {},
   "outputs": [
    {
     "data": {
      "text/plain": [
       "\"Amanda: I baked  cookies. Do you want some? \\n Jerry: Sure! \\n Amanda: I'll bring you tomorrow :-)\""
      ]
     },
     "execution_count": 6,
     "metadata": {},
     "output_type": "execute_result"
    }
   ],
   "source": [
    "conversations[0]"
   ]
  },
  {
   "cell_type": "code",
   "execution_count": 7,
   "metadata": {},
   "outputs": [
    {
     "data": {
      "text/plain": [
       "'Amanda baked cookies and will bring Jerry some tomorrow.'"
      ]
     },
     "execution_count": 7,
     "metadata": {},
     "output_type": "execute_result"
    }
   ],
   "source": [
    "summaries[0]"
   ]
  },
  {
   "cell_type": "code",
   "execution_count": 8,
   "metadata": {},
   "outputs": [],
   "source": [
    "from openie import StanfordOpenIE"
   ]
  },
  {
   "cell_type": "code",
   "execution_count": 9,
   "metadata": {},
   "outputs": [],
   "source": [
    "\n",
    "    #graph_image = 'graph.png'\n",
    "    #client.generate_graphviz_graph(text, graph_image)\n",
    "    #print('Graph generated: %s.' % graph_image)\n",
    "\n",
    "    #with open('corpus/pg6130.txt', 'r', encoding='utf8') as r:\n",
    "    #    corpus = r.read().replace('\\n', ' ').replace('\\r', '')\n",
    "\n",
    "    #triples_corpus = client.annotate(corpus[0:50000])\n",
    "    #print('Corpus: %s [...].' % corpus[0:80])\n",
    "    #print('Found %s triples in the corpus.' % len(triples_corpus))\n",
    "    #for triple in triples_corpus[:3]:\n",
    "    #    print('|-', triple)"
   ]
  },
  {
   "cell_type": "code",
   "execution_count": null,
   "metadata": {},
   "outputs": [
    {
     "name": "stdout",
     "output_type": "stream",
     "text": [
      "Text: Tim: Hi, what's up? \n",
      " Kim: Bad mood tbh, I was going to do lots of stuff but ended up procrastinating \n",
      " Tim: What did you plan on doing? \n",
      " Kim: Oh you know, uni stuff and unfucking my room \n",
      " Kim: Maybe tomorrow I'll move my ass and do everything \n",
      " Kim: We were going to defrost a fridge so instead of shopping I'll eat some defrosted veggies \n",
      " Tim: For doing stuff I recommend Pomodoro technique where u use breaks for doing chores \n",
      " Tim: It really helps \n",
      " Kim: thanks, maybe I'll do that \n",
      " Tim: I also like using post-its in kaban style.\n",
      "-----\n",
      "Starting server with command: java -Xmx8G -cp /home/jiaaoc/stanfordnlp_resources/stanford-corenlp-full-2018-10-05/* edu.stanford.nlp.pipeline.StanfordCoreNLPServer -port 9000 -timeout 60000 -threads 5 -maxCharLength 100000 -quiet True -serverProperties corenlp_server-f2f5cfe8812e4d2d.props -preload openie\n"
     ]
    }
   ],
   "source": [
    "with StanfordOpenIE() as client:\n",
    "    text = conversations[2]\n",
    "    print('Text:\\n %s.' % text)\n",
    "    print(\"-----\")\n",
    "    for triple in client.annotate(text):\n",
    "        print('|-', triple)\n",
    "    print(\"-----\")\n",
    "        \n",
    "    text = summaries[2]\n",
    "    print('Text: %s.' % text)\n",
    "    print(\"-----\")\n",
    "    for triple in client.annotate(text):\n",
    "        print('|-', triple)\n",
    "    \n"
   ]
  },
  {
   "cell_type": "code",
   "execution_count": null,
   "metadata": {},
   "outputs": [],
   "source": [
    "text = conversations[0]\n",
    "print('Text: %s.' % text)\n",
    "print(\"-----\")\n",
    "for triple in client.annotate(text):\n",
    "    print('|-', triple)\n",
    "print(\"-----\")    \n",
    "text = summaries[0]\n",
    "print('Text: %s.' % text)\n",
    "print(\"-----\")\n",
    "for triple in client.annotate(text):\n",
    "    print('|-', triple)"
   ]
  },
  {
   "cell_type": "code",
   "execution_count": null,
   "metadata": {},
   "outputs": [],
   "source": [
    "text = conversations[1]\n",
    "print('Text: %s.' % text)\n",
    "print(\"-----\")\n",
    "for triple in client.annotate(text):\n",
    "    print('|-', triple)\n",
    "print(\"-----\")    \n",
    "text = summaries[1]\n",
    "print('Text: %s.' % text)\n",
    "print(\"-----\")\n",
    "for triple in client.annotate(text):\n",
    "    print('|-', triple)"
   ]
  },
  {
   "cell_type": "code",
   "execution_count": null,
   "metadata": {},
   "outputs": [],
   "source": [
    "text = conversations[100]\n",
    "print('Text: %s.' % text)\n",
    "print(\"-----\")\n",
    "for triple in client.annotate(text):\n",
    "    print('|-', triple)\n",
    "print(\"-----\")    \n",
    "text = summaries[100]\n",
    "print('Text: %s.' % text)\n",
    "print(\"-----\")\n",
    "for triple in client.annotate(text):\n",
    "    print('|-', triple)"
   ]
  },
  {
   "cell_type": "code",
   "execution_count": null,
   "metadata": {},
   "outputs": [],
   "source": []
  },
  {
   "cell_type": "code",
   "execution_count": null,
   "metadata": {},
   "outputs": [],
   "source": []
  },
  {
   "cell_type": "code",
   "execution_count": null,
   "metadata": {},
   "outputs": [],
   "source": []
  }
 ],
 "metadata": {
  "kernelspec": {
   "display_name": "Python 3",
   "language": "python",
   "name": "python3"
  },
  "language_info": {
   "codemirror_mode": {
    "name": "ipython",
    "version": 3
   },
   "file_extension": ".py",
   "mimetype": "text/x-python",
   "name": "python",
   "nbconvert_exporter": "python",
   "pygments_lexer": "ipython3",
   "version": "3.7.6"
  }
 },
 "nbformat": 4,
 "nbformat_minor": 4
}
