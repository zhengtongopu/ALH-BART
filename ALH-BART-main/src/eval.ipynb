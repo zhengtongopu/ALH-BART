{
 "cells": [
  {
   "cell_type": "code",
   "execution_count": 6,
   "metadata": {},
   "outputs": [],
   "source": [
    "from rouge import Rouge, FilesRouge\n",
    "rouge = Rouge()"
   ]
  },
  {
   "cell_type": "code",
   "execution_count": 9,
   "metadata": {},
   "outputs": [
    {
     "name": "stdout",
     "output_type": "stream",
     "text": [
      "Val {'rouge-1': {'f': 0.46468341026503424, 'p': 0.5135327170555666, 'r': 0.4681954858126736}, 'rouge-2': {'f': 0.22815332875484912, 'p': 0.2509674528312414, 'r': 0.23048367168629985}, 'rouge-l': {'f': 0.4504982688622795, 'p': 0.4956329726166828, 'r': 0.44769538198888287}}\n"
     ]
    }
   ],
   "source": [
    "hyp_path = './composit/test_generations.txt'\n",
    "ref_path = './data/test.target'\n",
    "hypothesis = []\n",
    "with open(hyp_path, 'r') as f:\n",
    "    lines = f.readlines()\n",
    "    for l in lines:\n",
    "        hypothesis.append(l[:-1])\n",
    "\n",
    "reference = []\n",
    "with open(ref_path, 'r') as f:\n",
    "    lines = f.readlines()\n",
    "    for l in lines:\n",
    "        reference.append(l[:-1])\n",
    "\n",
    "rouge = Rouge()\n",
    "print(\"Val\", rouge.get_scores(hypothesis, reference, avg = True))"
   ]
  },
  {
   "cell_type": "code",
   "execution_count": 10,
   "metadata": {},
   "outputs": [
    {
     "name": "stdout",
     "output_type": "stream",
     "text": [
      "Val {'rouge-1': {'f': 0.4468290037905402, 'p': 0.4800770565413331, 'r': 0.46221337369937565}, 'rouge-2': {'f': 0.21061086918744645, 'p': 0.2281534592806474, 'r': 0.21799554360005488}, 'rouge-l': {'f': 0.4417982491208333, 'p': 0.47843084301879535, 'r': 0.44422739547224804}}\n"
     ]
    }
   ],
   "source": [
    "hyp_path = './baseline/test_generations.txt'\n",
    "ref_path = './data/test.target'\n",
    "hypothesis = []\n",
    "with open(hyp_path, 'r') as f:\n",
    "    lines = f.readlines()\n",
    "    for l in lines:\n",
    "        hypothesis.append(l[:-1])\n",
    "\n",
    "reference = []\n",
    "with open(ref_path, 'r') as f:\n",
    "    lines = f.readlines()\n",
    "    for l in lines:\n",
    "        reference.append(l[:-1])\n",
    "\n",
    "rouge = Rouge()\n",
    "print(\"Val\", rouge.get_scores(hypothesis, reference, avg = True))"
   ]
  },
  {
   "cell_type": "code",
   "execution_count": null,
   "metadata": {},
   "outputs": [],
   "source": []
  },
  {
   "cell_type": "code",
   "execution_count": null,
   "metadata": {},
   "outputs": [],
   "source": []
  },
  {
   "cell_type": "code",
   "execution_count": null,
   "metadata": {},
   "outputs": [],
   "source": []
  }
 ],
 "metadata": {
  "kernelspec": {
   "display_name": "Python [conda env:root] *",
   "language": "python",
   "name": "conda-root-py"
  },
  "language_info": {
   "codemirror_mode": {
    "name": "ipython",
    "version": 3
   },
   "file_extension": ".py",
   "mimetype": "text/x-python",
   "name": "python",
   "nbconvert_exporter": "python",
   "pygments_lexer": "ipython3",
   "version": "3.8.3"
  }
 },
 "nbformat": 4,
 "nbformat_minor": 4
}
